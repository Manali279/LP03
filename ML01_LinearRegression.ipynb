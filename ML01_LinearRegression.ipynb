{
 "cells": [
  {
   "cell_type": "raw",
   "id": "91ffcb73",
   "metadata": {},
   "source": [
    "   y=b0+b1x\n",
    " \n",
    "(Without libraries)\n",
    "1. Import numpy, matplotlib.pyplot (for basic drawing a line)\n",
    "2. from sklearn.metrics import mean_squared_error, r2_score and from sklearn import linear_model (implement linear regression using libraries)\n",
    "3. Insert x and y values using np.array()\n",
    "4. use scatter and xlabel, ylabel func (for graphical display)\n",
    "5. calculate x_mean and y_mean using sum() and len()\n",
    "6. run a for loop and numerator=summation(x[i]-x_mean)*(y[i]-y_mean) and denominator=summation((x[i]-x_mean)**2)\n",
    "7. b1=num/denom and get b0 from equation\n",
    "8. run a for loop and find y_pred for each x[i] and append in predict[] list\n",
    "9. again scatter plot including the line\n",
    "\n",
    "(With libraries)\n",
    "1. reshape x-> x=x.reshape(-1,1)\n",
    "2. create a model and print model.predict(x)\n",
    "3.rmse = mean_squared_error(y, predict, squared=False) and r2_score(y,model.predict(x))"
   ]
  },
  {
   "cell_type": "code",
   "execution_count": 1,
   "id": "a8bc9eb7",
   "metadata": {},
   "outputs": [],
   "source": [
    "import numpy as np\n",
    "import matplotlib.pyplot as mp"
   ]
  },
  {
   "cell_type": "code",
   "execution_count": 2,
   "id": "6f99b883",
   "metadata": {},
   "outputs": [],
   "source": [
    "x=np.array([10,9,2,15,10,16,11,16])\n",
    "y=np.array([95,80,10,50,45,98,38,93])"
   ]
  },
  {
   "cell_type": "code",
   "execution_count": 4,
   "id": "13d8ffdf",
   "metadata": {},
   "outputs": [
    {
     "data": {
      "text/plain": [
       "Text(0, 0.5, 'Risk')"
      ]
     },
     "execution_count": 4,
     "metadata": {},
     "output_type": "execute_result"
    },
    {
     "data": {
      "image/png": "[encoded data removed]",
      "text/plain": [
       "<Figure size 432x288 with 1 Axes>"
      ]
     },
     "metadata": {
      "needs_background": "light"
     },
     "output_type": "display_data"
    }
   ],
   "source": [
    "mp.scatter(x,y,color='green')\n",
    "mp.xlabel('Hours')\n",
    "mp.ylabel('Risk')"
   ]
  },
  {
   "cell_type": "code",
   "execution_count": 5,
   "id": "53b6e283",
   "metadata": {},
   "outputs": [
    {
     "name": "stdout",
     "output_type": "stream",
     "text": [
      "11.125\n",
      "63.625\n"
     ]
    }
   ],
   "source": [
    "x_mean=sum(x)/len(x)\n",
    "print(x_mean)\n",
    "y_mean=sum(y)/len(y)\n",
    "print(y_mean)"
   ]
  },
  {
   "cell_type": "code",
   "execution_count": 6,
   "id": "add74462",
   "metadata": {},
   "outputs": [
    {
     "name": "stdout",
     "output_type": "stream",
     "text": [
      "12.584627964022893\n",
      "4.58789860997547\n"
     ]
    }
   ],
   "source": [
    "num=0\n",
    "denom=0\n",
    "for i in range(len(x)):\n",
    "    num+=(x[i]-x_mean)*(y[i]-y_mean)\n",
    "    denom+=(x[i]-x_mean)**2\n",
    "b1=num/denom\n",
    "b0=y_mean-(b1*x_mean)\n",
    "print(b0)\n",
    "print(b1)\n",
    "\n",
    "\n"
   ]
  },
  {
   "cell_type": "code",
   "execution_count": 9,
   "id": "874b95e0",
   "metadata": {},
   "outputs": [
    {
     "name": "stdout",
     "output_type": "stream",
     "text": [
      "y= 12.584627964022893 + 4.58789860997547 x\n"
     ]
    }
   ],
   "source": [
    "print(\"y=\",b0,\"+\",b1,\"x\")"
   ]
  },
  {
   "cell_type": "code",
   "execution_count": 10,
   "id": "37c3bcd7",
   "metadata": {
    "scrolled": true
   },
   "outputs": [
    {
     "name": "stdout",
     "output_type": "stream",
     "text": [
      "58.46361406377759\n",
      "53.87571545380212\n",
      "21.760425183973833\n",
      "81.40310711365495\n",
      "58.46361406377759\n",
      "85.99100572363042\n",
      "63.05151267375307\n",
      "85.99100572363042\n"
     ]
    }
   ],
   "source": [
    "pred=[]\n",
    "for i in range(len(x)):\n",
    "    y_pred=b0+(b1*x[i])\n",
    "    pred.append(y_pred)\n",
    "    print(y_pred)"
   ]
  },
  {
   "cell_type": "code",
   "execution_count": 11,
   "id": "8e3e59ef",
   "metadata": {},
   "outputs": [
    {
     "data": {
      "text/plain": [
       "[<matplotlib.lines.Line2D at 0x1f347314130>]"
      ]
     },
     "execution_count": 11,
     "metadata": {},
     "output_type": "execute_result"
    },
    {
     "data": {
      "image/png": "[encoded data removed]",
      "text/plain": [
       "<Figure size 432x288 with 1 Axes>"
      ]
     },
     "metadata": {
      "needs_background": "light"
     },
     "output_type": "display_data"
    }
   ],
   "source": [
    "mp.scatter(x,y,color='green')\n",
    "mp.xlabel('Hours')\n",
    "mp.ylabel('Risk')\n",
    "mp.plot(x,pred)"
   ]
  },
  {
   "cell_type": "code",
   "execution_count": 12,
   "id": "87ddb6a7",
   "metadata": {},
   "outputs": [
    {
     "name": "stdout",
     "output_type": "stream",
     "text": [
      "22.759716640449565\n",
      "0.43709481451010035\n"
     ]
    }
   ],
   "source": [
    "from sklearn.metrics import mean_squared_error, r2_score\n",
    "rmse=mean_squared_error(y,pred,squared=False)\n",
    "r2=r2_score(y,pred)\n",
    "print(rmse)\n",
    "print(r2)"
   ]
  },
  {
   "cell_type": "code",
   "execution_count": 13,
   "id": "03f1e0b1",
   "metadata": {},
   "outputs": [
    {
     "name": "stdout",
     "output_type": "stream",
     "text": [
      "[58.46361406 53.87571545 21.76042518 81.40310711 58.46361406 85.99100572\n",
      " 63.05151267 85.99100572]\n"
     ]
    }
   ],
   "source": [
    "x=x.reshape(-1,1)\n",
    "from sklearn import linear_model\n",
    "lr=linear_model.LinearRegression()\n",
    "lr.fit(x,y)\n",
    "print(lr.predict(x))"
   ]
  },
  {
   "cell_type": "code",
   "execution_count": 15,
   "id": "f2062740",
   "metadata": {},
   "outputs": [
    {
     "name": "stdout",
     "output_type": "stream",
     "text": [
      "22.759716640449565\n",
      "0.43709481451010035\n"
     ]
    }
   ],
   "source": [
    "rmse1=mean_squared_error(y,lr.predict(x),squared=False)\n",
    "r21=r2_score(y,lr.predict(x))\n",
    "print(rmse1)\n",
    "print(r21)"
   ]
  },
  {
   "cell_type": "code",
   "execution_count": null,
   "id": "b68181de",
   "metadata": {},
   "outputs": [],
   "source": []
  }
 ],
 "metadata": {
  "kernelspec": {
   "display_name": "Python 3 (ipykernel)",
   "language": "python",
   "name": "python3"
  },
  "language_info": {
   "codemirror_mode": {
    "name": "ipython",
    "version": 3
   },
   "file_extension": ".py",
   "mimetype": "text/x-python",
   "name": "python",
   "nbconvert_exporter": "python",
   "pygments_lexer": "ipython3",
   "version": "3.9.7"
  }
 },
 "nbformat": 4,
 "nbformat_minor": 5
}
