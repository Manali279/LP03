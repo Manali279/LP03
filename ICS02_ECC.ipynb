{
 "cells": [
  {
   "cell_type": "raw",
   "id": "0a15e2e6",
   "metadata": {},
   "source": [
    "1.import math and random\n",
    "2.check if 4a^3+27b^2!=0 (else print another coeff)\n",
    " x=1\n",
    " while true\n",
    " rhs=x^3+ax^2+b\n",
    " y=int(math.sqrt(rhs))\n",
    " lhs=y**2\n",
    " if(lhs==rhs)\n",
    " return [x,y]\n",
    " else\n",
    " x=x+1\n",
    " 2.take inputs a n b (3 n 4)\n",
    " 3.priv_a=13 priv_b=15\n",
    " generator=point(a,b)\n",
    " m=int(input(\"enter plaintext\"))\n",
    " pub_a=[priv_a*generator[0], priv_a*generator[1]]\n",
    " pub_b=[priv_b*generator[0], priv_b*generator[1]]\n",
    " k = random.randint(0, 10)\n",
    "c1 = k * (generator[0] + generator[1])\n",
    "c2 = m + ((k*public_key_B[0]) + (k*public_key_B[1]))\n",
    "ciphertext = [c1, c2]\n",
    "print(\"Ciphertext: \", ciphertext)\n",
    "r = private_B*c1\n",
    "plaintext = c2 - r\n",
    "print(\"Decrypted Plaintext: \", plaintext)\n",
    " "
   ]
  },
  {
   "cell_type": "code",
   "execution_count": 1,
   "id": "85e3b7ee",
   "metadata": {},
   "outputs": [],
   "source": [
    "import math\n",
    "import random"
   ]
  },
  {
   "cell_type": "code",
   "execution_count": 3,
   "id": "31aa1410",
   "metadata": {},
   "outputs": [
    {
     "name": "stdout",
     "output_type": "stream",
     "text": [
      "Enter the coefficient 'a' of curve: 3\n",
      "Enter the coefficient 'b' of curve: 4\n",
      "generating\n",
      "Generator point:  [5, 12]\n",
      "Enter the plaintext integer: 1011\n",
      "Public Key of A:  [65, 156]\n",
      "Public Key of B:  [75, 180]\n",
      "Ciphertext:  [68, 2031]\n",
      "Decrypted Plaintext:  1011\n"
     ]
    }
   ],
   "source": [
    "def point(a,b):\n",
    "\tif (4*(a**3) + 27*(b**2)) != 0:\n",
    "\t\tx = 1\n",
    "\t\tprint(\"generating\")\n",
    "\t\twhile True:\n",
    "\t\t\trhs = (x**3) + (a*x) + b\n",
    "\t\t\ty = int(math.sqrt(rhs))\n",
    "\t\t\tlhs = (y**2)\n",
    "\n",
    "\t\t\tif lhs == rhs:\n",
    "\t\t\t\treturn [x, y]\n",
    "\t\t\telse:\n",
    "\t\t\t\tx += 1\n",
    "\telse:\n",
    "\t\tprint(\"Enter another coefficients.\")\n",
    "\n",
    "\n",
    "a = int(input(\"Enter the coefficient 'a' of curve: \"))\n",
    "b = int(input(\"Enter the coefficient 'b' of curve: \"))\n",
    "\n",
    "private_A = 13\n",
    "private_B = 15\n",
    "\n",
    "generator = point(a, b)\n",
    "print(\"Generator point: \", generator)\n",
    "\n",
    "m = int(input(\"Enter the plaintext integer: \"))\n",
    "\n",
    "public_key_A = [private_A*generator[0], private_A*generator[1]]\n",
    "print(\"Public Key of A: \", public_key_A)\n",
    "\n",
    "public_key_B = [private_B*generator[0], private_B*generator[1]]\n",
    "print(\"Public Key of B: \", public_key_B)\n",
    "\n",
    "k = random.randint(0, 10)\n",
    "\n",
    "c1 = k * (generator[0] + generator[1])\n",
    "\n",
    "c2 = m + ((k*public_key_B[0]) + (k*public_key_B[1]))\n",
    "\n",
    "\n",
    "ciphertext = [c1, c2]\n",
    "print(\"Ciphertext: \", ciphertext)\n",
    "\n",
    "r = private_B*c1\n",
    "\n",
    "plaintext = c2 - r\n",
    "print(\"Decrypted Plaintext: \", plaintext)"
   ]
  },
  {
   "cell_type": "code",
   "execution_count": null,
   "id": "a7be9b9d",
   "metadata": {},
   "outputs": [],
   "source": []
  }
 ],
 "metadata": {
  "kernelspec": {
   "display_name": "Python 3 (ipykernel)",
   "language": "python",
   "name": "python3"
  },
  "language_info": {
   "codemirror_mode": {
    "name": "ipython",
    "version": 3
   },
   "file_extension": ".py",
   "mimetype": "text/x-python",
   "name": "python",
   "nbconvert_exporter": "python",
   "pygments_lexer": "ipython3",
   "version": "3.9.7"
  }
 },
 "nbformat": 4,
 "nbformat_minor": 5
}
