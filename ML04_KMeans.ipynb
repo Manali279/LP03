{
 "cells": [
  {
   "cell_type": "raw",
   "id": "6fe53698",
   "metadata": {},
   "source": [
    "1. import numpy, pandas, matplotlib.pyplot, copy(deepcopy), %matplotlib inline\n",
    "2. convert dataset into df\n",
    "3. plot x_coor, y_coor\n",
    "f1 = df['x_coordinate'].values\n",
    "f2 = df['y_coordinate'].values\n",
    "X = np.array(list(zip(f1, f2)))\n",
    "plt.scatter(f1, f2, c='blue')\n",
    "4.calculate dist using np.linalg.norm(a-b,axis=ax)\n",
    "5.centroids as point0 and point7 and create array of centroids\n",
    "6.scatter plot centroids as x marks\n",
    "7.calculate new centroids such that they are means of the clusters\n",
    "C_old = np.zeros(Centroids.shape)\n",
    "clusters = np.zeros(len(X))\n",
    "error = dist(Centroids, C_old, None)\n",
    "while error != 0:\n",
    "    for i in range(len(X)):\n",
    "        distances = dist(X[i], Centroids)\n",
    "        cluster = np.argmin(distances)\n",
    "        clusters[i] = cluster\n",
    "    C_old = deepcopy(Centroids)\n",
    "    print(C_old)\n",
    "    for i in range(k):\n",
    "        points = [X[j] for j in range(len(X)) if clusters[j] == i]\n",
    "        Centroids[i] = np.mean(points, axis=0)\n",
    "        print(Centroids[i])\n",
    "    error = dist(Centroids, C_old, None)\n",
    " 8.plotting new values"
   ]
  },
  {
   "cell_type": "code",
   "execution_count": 11,
   "id": "b3c2b758",
   "metadata": {},
   "outputs": [],
   "source": [
    "import numpy as np\n",
    "import pandas as pd\n",
    "from copy import deepcopy\n",
    "import matplotlib.pyplot as mp\n",
    "%matplotlib inline"
   ]
  },
  {
   "cell_type": "code",
   "execution_count": 12,
   "id": "090f3f0b",
   "metadata": {},
   "outputs": [],
   "source": [
    "dataset = {\n",
    "'Points':['P1','P2','P3','P4','P5','P6','P7','P8',],\n",
    "'x_coordinate':[0.1,0.15,0.08,0.16,0.2,0.25,0.24,0.3],\n",
    "'y_coordinate':[0.6,0.71,0.9,0.85,0.3,0.5,0.1,0.2]\n",
    "}"
   ]
  },
  {
   "cell_type": "code",
   "execution_count": 13,
   "id": "3f3e1985",
   "metadata": {},
   "outputs": [],
   "source": [
    "df = pd.DataFrame(dataset,columns=['Points','x_coordinate','y_coordinate'])"
   ]
  },
  {
   "cell_type": "code",
   "execution_count": 14,
   "id": "3f4b765a",
   "metadata": {},
   "outputs": [
    {
     "data": {
      "text/html": [
       "<div>\n",
       "<style scoped>\n",
       "    .dataframe tbody tr th:only-of-type {\n",
       "        vertical-align: middle;\n",
       "    }\n",
       "\n",
       "    .dataframe tbody tr th {\n",
       "        vertical-align: top;\n",
       "    }\n",
       "\n",
       "    .dataframe thead th {\n",
       "        text-align: right;\n",
       "    }\n",
       "</style>\n",
       "<table border=\"1\" class=\"dataframe\">\n",
       "  <thead>\n",
       "    <tr style=\"text-align: right;\">\n",
       "      <th></th>\n",
       "      <th>Points</th>\n",
       "      <th>x_coordinate</th>\n",
       "      <th>y_coordinate</th>\n",
       "    </tr>\n",
       "  </thead>\n",
       "  <tbody>\n",
       "    <tr>\n",
       "      <th>0</th>\n",
       "      <td>P1</td>\n",
       "      <td>0.10</td>\n",
       "      <td>0.60</td>\n",
       "    </tr>\n",
       "    <tr>\n",
       "      <th>1</th>\n",
       "      <td>P2</td>\n",
       "      <td>0.15</td>\n",
       "      <td>0.71</td>\n",
       "    </tr>\n",
       "    <tr>\n",
       "      <th>2</th>\n",
       "      <td>P3</td>\n",
       "      <td>0.08</td>\n",
       "      <td>0.90</td>\n",
       "    </tr>\n",
       "    <tr>\n",
       "      <th>3</th>\n",
       "      <td>P4</td>\n",
       "      <td>0.16</td>\n",
       "      <td>0.85</td>\n",
       "    </tr>\n",
       "    <tr>\n",
       "      <th>4</th>\n",
       "      <td>P5</td>\n",
       "      <td>0.20</td>\n",
       "      <td>0.30</td>\n",
       "    </tr>\n",
       "    <tr>\n",
       "      <th>5</th>\n",
       "      <td>P6</td>\n",
       "      <td>0.25</td>\n",
       "      <td>0.50</td>\n",
       "    </tr>\n",
       "    <tr>\n",
       "      <th>6</th>\n",
       "      <td>P7</td>\n",
       "      <td>0.24</td>\n",
       "      <td>0.10</td>\n",
       "    </tr>\n",
       "    <tr>\n",
       "      <th>7</th>\n",
       "      <td>P8</td>\n",
       "      <td>0.30</td>\n",
       "      <td>0.20</td>\n",
       "    </tr>\n",
       "  </tbody>\n",
       "</table>\n",
       "</div>"
      ],
      "text/plain": [
       "  Points  x_coordinate  y_coordinate\n",
       "0     P1          0.10          0.60\n",
       "1     P2          0.15          0.71\n",
       "2     P3          0.08          0.90\n",
       "3     P4          0.16          0.85\n",
       "4     P5          0.20          0.30\n",
       "5     P6          0.25          0.50\n",
       "6     P7          0.24          0.10\n",
       "7     P8          0.30          0.20"
      ]
     },
     "execution_count": 14,
     "metadata": {},
     "output_type": "execute_result"
    }
   ],
   "source": [
    "df.head(8)"
   ]
  },
  {
   "cell_type": "code",
   "execution_count": 15,
   "id": "f4394350",
   "metadata": {},
   "outputs": [
    {
     "data": {
      "text/plain": [
       "<matplotlib.collections.PathCollection at 0x2bc790f2fa0>"
      ]
     },
     "execution_count": 15,
     "metadata": {},
     "output_type": "execute_result"
    },
    {
     "data": {
      "image/png": "[encoded data removed]",
      "text/plain": [
       "<Figure size 432x288 with 1 Axes>"
      ]
     },
     "metadata": {
      "needs_background": "light"
     },
     "output_type": "display_data"
    }
   ],
   "source": [
    "a1=df['x_coordinate'].values\n",
    "b1=df['y_coordinate'].values\n",
    "arr=np.array(list(zip(a1,b1)))\n",
    "mp.scatter(a1,b1,color='blue')"
   ]
  },
  {
   "cell_type": "code",
   "execution_count": 16,
   "id": "393bfa48",
   "metadata": {},
   "outputs": [],
   "source": [
    "def dist(a, b, ax=1):\n",
    "    return np.linalg.norm(a - b, axis=ax)"
   ]
  },
  {
   "cell_type": "code",
   "execution_count": 18,
   "id": "e37ecc1a",
   "metadata": {},
   "outputs": [
    {
     "name": "stdout",
     "output_type": "stream",
     "text": [
      "[[0.1 0.6]\n",
      " [0.3 0.2]]\n"
     ]
    }
   ],
   "source": [
    "k=2\n",
    "c1=list(arr[0])\n",
    "c2=list(arr[7])\n",
    "centro=np.array([c1,c2])\n",
    "print(centro)"
   ]
  },
  {
   "cell_type": "code",
   "execution_count": 20,
   "id": "60f6a9b3",
   "metadata": {},
   "outputs": [
    {
     "data": {
      "text/plain": [
       "<matplotlib.collections.PathCollection at 0x2bc79370af0>"
      ]
     },
     "execution_count": 20,
     "metadata": {},
     "output_type": "execute_result"
    },
    {
     "data": {
      "image/png": "[encoded data removed]",
      "text/plain": [
       "<Figure size 432x288 with 1 Axes>"
      ]
     },
     "metadata": {
      "needs_background": "light"
     },
     "output_type": "display_data"
    }
   ],
   "source": [
    "mp.scatter(a1,b1,color='blue')\n",
    "mp.scatter(c1[0],c1[1],marker='x', s=50,c='r')\n",
    "mp.scatter(c2[0],c2[1],marker='x', s=50,c='r')"
   ]
  },
  {
   "cell_type": "code",
   "execution_count": 23,
   "id": "52e2e1e9",
   "metadata": {},
   "outputs": [
    {
     "name": "stdout",
     "output_type": "stream",
     "text": [
      "[[0.1 0.6]\n",
      " [0.3 0.2]]\n",
      "[0.148 0.712]\n",
      "[0.24666667 0.2       ]\n",
      "[[0.148      0.712     ]\n",
      " [0.24666667 0.2       ]]\n",
      "[0.148 0.712]\n",
      "[0.24666667 0.2       ]\n"
     ]
    }
   ],
   "source": [
    "C_old = np.zeros(centro.shape)\n",
    "clusters = np.zeros(len(arr))\n",
    "error = dist(centro, C_old, None)\n",
    "while error != 0:\n",
    "    for i in range(len(arr)):\n",
    "        distances = dist(arr[i], centro)\n",
    "        cluster = np.argmin(distances)\n",
    "        clusters[i] = cluster\n",
    "    C_old = deepcopy(centro)\n",
    "    print(C_old)\n",
    "    for i in range(k):\n",
    "        points = [arr[j] for j in range(len(arr)) if clusters[j] == i]\n",
    "        centro[i] = np.mean(points, axis=0)\n",
    "        print(centro[i])\n",
    "    error = dist(centro, C_old, None)"
   ]
  },
  {
   "cell_type": "code",
   "execution_count": 27,
   "id": "7422e65c",
   "metadata": {},
   "outputs": [
    {
     "name": "stdout",
     "output_type": "stream",
     "text": [
      "New centroids are : \n",
      "[0.148 0.712]\n",
      "[0.24666667 0.2       ]\n",
      "-----------\n",
      "For centroid 0\n",
      "[[0.1  0.6 ]\n",
      " [0.15 0.71]\n",
      " [0.08 0.9 ]\n",
      " [0.16 0.85]\n",
      " [0.25 0.5 ]]\n",
      "For centroid 1\n",
      "[[0.2  0.3 ]\n",
      " [0.24 0.1 ]\n",
      " [0.3  0.2 ]]\n"
     ]
    },
    {
     "data": {
      "text/plain": [
       "<matplotlib.collections.PathCollection at 0x2bc79442af0>"
      ]
     },
     "execution_count": 27,
     "metadata": {},
     "output_type": "execute_result"
    },
    {
     "data": {
      "image/png": "[encoded data removed]",
      "text/plain": [
       "<Figure size 432x288 with 1 Axes>"
      ]
     },
     "metadata": {
      "needs_background": "light"
     },
     "output_type": "display_data"
    }
   ],
   "source": [
    "colors = ['r', 'g']\n",
    "fig, ax = mp.subplots()\n",
    "print(\"New centroids are : \")\n",
    "print(centro[0])\n",
    "print(centro[1])\n",
    "print(\"-----------\")\n",
    "for i in range(k):\n",
    "        points = np.array([arr[j] for j in range(len(arr)) if clusters[j] == i])\n",
    "        print(\"For centroid\",i)\n",
    "        print(points)\n",
    "        ax.scatter(points[:, 0], points[:, 1], s=7, c=colors[i])\n",
    "\n",
    "mp.scatter(centro[:, 0], centro[:, 1], marker='x', s=50, c='blue')"
   ]
  },
  {
   "cell_type": "code",
   "execution_count": null,
   "id": "bad19484",
   "metadata": {},
   "outputs": [],
   "source": []
  }
 ],
 "metadata": {
  "kernelspec": {
   "display_name": "Python 3 (ipykernel)",
   "language": "python",
   "name": "python3"
  },
  "language_info": {
   "codemirror_mode": {
    "name": "ipython",
    "version": 3
   },
   "file_extension": ".py",
   "mimetype": "text/x-python",
   "name": "python",
   "nbconvert_exporter": "python",
   "pygments_lexer": "ipython3",
   "version": "3.9.7"
  }
 },
 "nbformat": 4,
 "nbformat_minor": 5
}
