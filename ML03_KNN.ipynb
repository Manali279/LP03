{
 "cells": [
  {
   "cell_type": "raw",
   "id": "3a921846",
   "metadata": {},
   "source": [
    "1. import numpy, pandas, math\n",
    "2. two arrays of points and (0 or 1)\n",
    "3. def euclidean_dist(x1,x2,y1,y2)\n",
    "4. def chooseK(arr)\n",
    "   k=round(math.sqrt(arr.shape[0]))\n",
    "    if(k%2==0):\n",
    "        k=k+1;\n",
    "5. classifyPoint(x,y,point,k)\n",
    "    inputSize=x.shape[0];\n",
    "    distance=[]; #for string eucledian distance\n",
    "    for i in range(inputSize):\n",
    "        distance.append(eucledian_distance(point[0],point[1],x[i][0],x[i][1]));\n",
    "        \n",
    "    mergedList=list(zip(distance,y));\n",
    "    mergedList.sort(); #sort according to increasing distance\n",
    "    \n",
    "    freq0=0; #Freq of group 0 (negative)\n",
    "    freq1=0; #Freq of group 1 (positive)\n",
    "    \n",
    "    for i in range(k): #Iterate for k neighbours\n",
    "        if(mergedList[i][1]==0):\n",
    "            freq0=freq0+1;\n",
    "        elif (mergedList[i][1]==1):\n",
    "            freq1=freq1+1;\n",
    "    \n",
    "    if(freq0>freq1):\n",
    "        return 0;\n",
    "    else:\n",
    "        return 1;"
   ]
  },
  {
   "cell_type": "code",
   "execution_count": 1,
   "id": "76c2199e",
   "metadata": {},
   "outputs": [],
   "source": [
    "import numpy as np\n",
    "import pandas as pd\n",
    "import math"
   ]
  },
  {
   "cell_type": "code",
   "execution_count": 2,
   "id": "2c256ec1",
   "metadata": {},
   "outputs": [],
   "source": [
    "x=np.array([[2,4],[4,2],[4,4],[4,6],[6,2],[6,4]])\n",
    "y=np.array([0,0,1,0,1,0])"
   ]
  },
  {
   "cell_type": "code",
   "execution_count": 3,
   "id": "15e0b015",
   "metadata": {},
   "outputs": [],
   "source": [
    "def euclidean(x1,x2,y1,y2):\n",
    "    return math.sqrt((x1-x2)**2+(y1-y2)**2)"
   ]
  },
  {
   "cell_type": "code",
   "execution_count": 5,
   "id": "7a60925d",
   "metadata": {},
   "outputs": [],
   "source": [
    "def chooseK(arr):\n",
    "    k=round(math.sqrt(arr.shape[0]))\n",
    "    if(k%2==0):\n",
    "        k=k+1\n",
    "    print(k)\n",
    "    return k\n",
    "    "
   ]
  },
  {
   "cell_type": "code",
   "execution_count": 6,
   "id": "20214a45",
   "metadata": {},
   "outputs": [
    {
     "name": "stdout",
     "output_type": "stream",
     "text": [
      "3\n"
     ]
    },
    {
     "data": {
      "text/plain": [
       "3"
      ]
     },
     "execution_count": 6,
     "metadata": {},
     "output_type": "execute_result"
    }
   ],
   "source": [
    "chooseK(x)"
   ]
  },
  {
   "cell_type": "code",
   "execution_count": 7,
   "id": "6adda9ac",
   "metadata": {},
   "outputs": [],
   "source": [
    "def classify(x,y,point,k):\n",
    "    ip=x.shape[0]\n",
    "    dist=[]\n",
    "    for i in range(ip):\n",
    "        dist.append(euclidean(point[0],point[1],x[i][0],x[i][1]))\n",
    "    mlist=list(zip(dist,y))\n",
    "    mlist.sort()\n",
    "    f0=0\n",
    "    f1=0\n",
    "    for i in range(k):\n",
    "        if(mlist[i][1]==0):\n",
    "            f0=f0+1\n",
    "        elif(mlist[i][1]==1):\n",
    "            f1=f1+1\n",
    "    \n",
    "    if(f0>f1):\n",
    "        return 0\n",
    "    else:\n",
    "        return 1\n",
    "    \n",
    "        \n",
    "    "
   ]
  },
  {
   "cell_type": "code",
   "execution_count": 9,
   "id": "6a2fec6f",
   "metadata": {},
   "outputs": [],
   "source": [
    "def main():\n",
    "    print(\"Input X\")\n",
    "    xin=int(input())\n",
    "    print(\"Input Y\")\n",
    "    yin=int(input())\n",
    "    pointin=(xin,yin)\n",
    "    print(pointin)\n",
    "    k=chooseK(x)\n",
    "    if(classify(x=x,y=y,point=pointin,k=k)==0):\n",
    "        print(\"Negative\")\n",
    "    else:\n",
    "        print(\"Positive\")\n",
    "    "
   ]
  },
  {
   "cell_type": "code",
   "execution_count": 10,
   "id": "cee07ae5",
   "metadata": {},
   "outputs": [
    {
     "name": "stdout",
     "output_type": "stream",
     "text": [
      "Input X\n",
      "6\n",
      "Input Y\n",
      "6\n",
      "(6, 6)\n",
      "3\n",
      "Negative\n"
     ]
    }
   ],
   "source": [
    "main()"
   ]
  },
  {
   "cell_type": "code",
   "execution_count": null,
   "id": "835324af",
   "metadata": {},
   "outputs": [],
   "source": []
  }
 ],
 "metadata": {
  "kernelspec": {
   "display_name": "Python 3 (ipykernel)",
   "language": "python",
   "name": "python3"
  },
  "language_info": {
   "codemirror_mode": {
    "name": "ipython",
    "version": 3
   },
   "file_extension": ".py",
   "mimetype": "text/x-python",
   "name": "python",
   "nbconvert_exporter": "python",
   "pygments_lexer": "ipython3",
   "version": "3.9.7"
  }
 },
 "nbformat": 4,
 "nbformat_minor": 5
}
