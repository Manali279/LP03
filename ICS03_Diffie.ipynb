{
 "cells": [
  {
   "cell_type": "raw",
   "id": "bd4e9021",
   "metadata": {},
   "source": [
    "from random import randint\n",
    "1. two prime nos. p=23 and q=9\n",
    "2.random no. for ramesh a=4 and suresh b=3\n",
    "3.r=int(pow(q,a,p))->public key of ramesh\n",
    "4.s=int(pow(q,b,p))->public key of suresh\n",
    "5.kr=int(pow(s,a,p))->private key of ramesh\n",
    "6.ks=int(pow(r,b,p))->private key of suresh\n",
    "if(kr==ks)->algo works correct"
   ]
  },
  {
   "cell_type": "code",
   "execution_count": 2,
   "id": "3537b885",
   "metadata": {},
   "outputs": [],
   "source": [
    "def main():\n",
    "    p=23\n",
    "    q=9\n",
    "    a=4\n",
    "    b=3\n",
    "    r=int(pow(q,a,p))\n",
    "    s=int(pow(q,b,p))\n",
    "    kr=int(pow(s,a,p))\n",
    "    ks=int(pow(r,b,p))\n",
    "    print(kr)\n",
    "    print(ks)"
   ]
  },
  {
   "cell_type": "code",
   "execution_count": 3,
   "id": "ff6be83f",
   "metadata": {},
   "outputs": [
    {
     "name": "stdout",
     "output_type": "stream",
     "text": [
      "9\n",
      "9\n"
     ]
    }
   ],
   "source": [
    "main()"
   ]
  },
  {
   "cell_type": "code",
   "execution_count": null,
   "id": "464a8401",
   "metadata": {},
   "outputs": [],
   "source": []
  }
 ],
 "metadata": {
  "kernelspec": {
   "display_name": "Python 3 (ipykernel)",
   "language": "python",
   "name": "python3"
  },
  "language_info": {
   "codemirror_mode": {
    "name": "ipython",
    "version": 3
   },
   "file_extension": ".py",
   "mimetype": "text/x-python",
   "name": "python",
   "nbconvert_exporter": "python",
   "pygments_lexer": "ipython3",
   "version": "3.9.7"
  }
 },
 "nbformat": 4,
 "nbformat_minor": 5
}
